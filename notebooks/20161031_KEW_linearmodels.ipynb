{
 "cells": [
  {
   "cell_type": "markdown",
   "metadata": {},
   "source": [
    "## Linear Models\n",
    "Try again to use LinearRegression() and Lasso() models based off of input from Kaggle [forum](https://www.kaggle.com/c/allstate-claims-severity/forums/t/24749/linear-models-predicting-very-large-values)."
   ]
  },
  {
   "cell_type": "code",
   "execution_count": 1,
   "metadata": {
    "collapsed": false
   },
   "outputs": [],
   "source": [
    "import numpy as np\n",
    "import pandas as pd\n",
    "import matplotlib.pyplot as plt\n",
    "import seaborn as sns\n",
    "from sklearn.ensemble import RandomForestRegressor\n",
    "from sklearn.cross_validation import train_test_split\n",
    "from sklearn.metrics import mean_squared_error,mean_absolute_error\n",
    "from sklearn.linear_model import Lasso, LinearRegression, Ridge\n",
    "from copy import deepcopy\n",
    "import os\n",
    "from sklearn.preprocessing import LabelEncoder, OneHotEncoder\n",
    "\n",
    "%matplotlib inline"
   ]
  },
  {
   "cell_type": "code",
   "execution_count": 2,
   "metadata": {
    "collapsed": false
   },
   "outputs": [],
   "source": [
    "loc = '/Users/elena/Documents/Kaggle/Allstate/data/'\n",
    "#loc = '/Users/elenaw/Documents/Kaggle/Allstate/data/'\n",
    "\n",
    "train = pd.read_csv(os.path.join(loc,'train.csv'))\n",
    "train.drop('id',axis=1,inplace=True)\n",
    "\n",
    "test = pd.read_csv(os.path.join(loc,'test.csv'))\n",
    "ids = test['id']\n",
    "test.drop('id',axis=1,inplace=True)\n",
    "\n",
    "submission = pd.read_csv(os.path.join(loc,\"sample_submission.csv\"))"
   ]
  },
  {
   "cell_type": "code",
   "execution_count": 3,
   "metadata": {
    "collapsed": false
   },
   "outputs": [
    {
     "name": "stdout",
     "output_type": "stream",
     "text": [
      "Categorical:  116\n",
      "Continuous:  14\n"
     ]
    }
   ],
   "source": [
    "# List of categorical columns\n",
    "keepcats = [col for col in train.columns if 'cat' in col]\n",
    "# List of continuous columns\n",
    "keepcont = [col for col in train.columns if 'cont' in col]\n",
    "\n",
    "print 'Categorical: ',len(keepcats)\n",
    "print 'Continuous: ',len(keepcont)"
   ]
  },
  {
   "cell_type": "code",
   "execution_count": 4,
   "metadata": {
    "collapsed": false
   },
   "outputs": [
    {
     "name": "stderr",
     "output_type": "stream",
     "text": [
      "/Users/elena/anaconda/lib/python2.7/site-packages/ipykernel/__main__.py:9: SettingWithCopyWarning: \n",
      "A value is trying to be set on a copy of a slice from a DataFrame.\n",
      "Try using .loc[row_indexer,col_indexer] = value instead\n",
      "\n",
      "See the caveats in the documentation: http://pandas.pydata.org/pandas-docs/stable/indexing.html#indexing-view-versus-copy\n"
     ]
    },
    {
     "data": {
      "text/html": [
       "<div>\n",
       "<table border=\"1\" class=\"dataframe\">\n",
       "  <thead>\n",
       "    <tr style=\"text-align: right;\">\n",
       "      <th></th>\n",
       "      <th>cont2</th>\n",
       "      <th>cont3</th>\n",
       "      <th>cont4</th>\n",
       "      <th>cont5</th>\n",
       "      <th>cont7</th>\n",
       "      <th>cont8</th>\n",
       "      <th>cont9</th>\n",
       "      <th>cont10</th>\n",
       "      <th>cont12</th>\n",
       "      <th>cont13</th>\n",
       "      <th>cont14</th>\n",
       "      <th>log-loss</th>\n",
       "    </tr>\n",
       "  </thead>\n",
       "  <tbody>\n",
       "    <tr>\n",
       "      <th>0</th>\n",
       "      <td>0.245921</td>\n",
       "      <td>0.187583</td>\n",
       "      <td>0.789639</td>\n",
       "      <td>0.310061</td>\n",
       "      <td>0.335060</td>\n",
       "      <td>0.30260</td>\n",
       "      <td>0.67135</td>\n",
       "      <td>0.83510</td>\n",
       "      <td>0.594646</td>\n",
       "      <td>0.822493</td>\n",
       "      <td>0.714843</td>\n",
       "      <td>7.702637</td>\n",
       "    </tr>\n",
       "    <tr>\n",
       "      <th>1</th>\n",
       "      <td>0.737068</td>\n",
       "      <td>0.592681</td>\n",
       "      <td>0.614134</td>\n",
       "      <td>0.885834</td>\n",
       "      <td>0.436585</td>\n",
       "      <td>0.60087</td>\n",
       "      <td>0.35127</td>\n",
       "      <td>0.43919</td>\n",
       "      <td>0.366307</td>\n",
       "      <td>0.611431</td>\n",
       "      <td>0.304496</td>\n",
       "      <td>7.158203</td>\n",
       "    </tr>\n",
       "    <tr>\n",
       "      <th>2</th>\n",
       "      <td>0.358319</td>\n",
       "      <td>0.484196</td>\n",
       "      <td>0.236924</td>\n",
       "      <td>0.397069</td>\n",
       "      <td>0.315545</td>\n",
       "      <td>0.27320</td>\n",
       "      <td>0.26076</td>\n",
       "      <td>0.32446</td>\n",
       "      <td>0.373424</td>\n",
       "      <td>0.195709</td>\n",
       "      <td>0.774425</td>\n",
       "      <td>8.008396</td>\n",
       "    </tr>\n",
       "    <tr>\n",
       "      <th>3</th>\n",
       "      <td>0.555782</td>\n",
       "      <td>0.527991</td>\n",
       "      <td>0.373816</td>\n",
       "      <td>0.422268</td>\n",
       "      <td>0.391128</td>\n",
       "      <td>0.31796</td>\n",
       "      <td>0.32128</td>\n",
       "      <td>0.44467</td>\n",
       "      <td>0.321570</td>\n",
       "      <td>0.605077</td>\n",
       "      <td>0.602642</td>\n",
       "      <td>6.846784</td>\n",
       "    </tr>\n",
       "    <tr>\n",
       "      <th>4</th>\n",
       "      <td>0.159990</td>\n",
       "      <td>0.527991</td>\n",
       "      <td>0.473202</td>\n",
       "      <td>0.704268</td>\n",
       "      <td>0.247408</td>\n",
       "      <td>0.24564</td>\n",
       "      <td>0.22089</td>\n",
       "      <td>0.21230</td>\n",
       "      <td>0.202213</td>\n",
       "      <td>0.246011</td>\n",
       "      <td>0.432606</td>\n",
       "      <td>7.924742</td>\n",
       "    </tr>\n",
       "  </tbody>\n",
       "</table>\n",
       "</div>"
      ],
      "text/plain": [
       "      cont2     cont3     cont4     cont5     cont7    cont8    cont9  \\\n",
       "0  0.245921  0.187583  0.789639  0.310061  0.335060  0.30260  0.67135   \n",
       "1  0.737068  0.592681  0.614134  0.885834  0.436585  0.60087  0.35127   \n",
       "2  0.358319  0.484196  0.236924  0.397069  0.315545  0.27320  0.26076   \n",
       "3  0.555782  0.527991  0.373816  0.422268  0.391128  0.31796  0.32128   \n",
       "4  0.159990  0.527991  0.473202  0.704268  0.247408  0.24564  0.22089   \n",
       "\n",
       "    cont10    cont12    cont13    cont14  log-loss  \n",
       "0  0.83510  0.594646  0.822493  0.714843  7.702637  \n",
       "1  0.43919  0.366307  0.611431  0.304496  7.158203  \n",
       "2  0.32446  0.373424  0.195709  0.774425  8.008396  \n",
       "3  0.44467  0.321570  0.605077  0.602642  6.846784  \n",
       "4  0.21230  0.202213  0.246011  0.432606  7.924742  "
      ]
     },
     "execution_count": 4,
     "metadata": {},
     "output_type": "execute_result"
    }
   ],
   "source": [
    "# Remove some highly correlated continuous features:\n",
    "newlist = deepcopy(keepcont)\n",
    "newlist.remove(\"cont1\")\n",
    "newlist.remove(\"cont11\")\n",
    "newlist.remove(\"cont6\")\n",
    "\n",
    "# Take the logarithm of the 'loss' column. \n",
    "dataset_cont = train[newlist]\n",
    "dataset_cont['log-loss']=np.log1p(train['loss'].values)\n",
    "dataset_cont.head()"
   ]
  },
  {
   "cell_type": "code",
   "execution_count": 5,
   "metadata": {
    "collapsed": true
   },
   "outputs": [],
   "source": [
    "def convert_strings(pdseries):\n",
    "    # Function inputs a column of a pandas DataFrame,\n",
    "    # determines the number of unique entries, and assigns \n",
    "    # an integer to each entry. \n",
    "    # This is to avoid issues with non-integer data.\n",
    "      \n",
    "    array = np.array(pdseries)\n",
    "    vals = np.unique(array)\n",
    "    nums = np.arange(0,len(vals),1)\n",
    "    #new_array = np.zeros(len(array),dtype='int')     \n",
    "    new_array = np.zeros(len(array),dtype='float')\n",
    "    \n",
    "    #nums = np.linspace(0,1,len(vals))\n",
    "    #new_array = np.zeros(len(array))\n",
    "\n",
    "    for j in range(len(vals)):\n",
    "        ind = np.where(array==vals[j])[0]\n",
    "        new_array[ind]=nums[j]\n",
    "     \n",
    "    # Returns a numpy array with an integer for each entry\n",
    "    return new_array"
   ]
  },
  {
   "cell_type": "code",
   "execution_count": 6,
   "metadata": {
    "collapsed": false
   },
   "outputs": [
    {
     "name": "stderr",
     "output_type": "stream",
     "text": [
      "/Users/elena/anaconda/lib/python2.7/site-packages/pandas/core/indexing.py:549: SettingWithCopyWarning: \n",
      "A value is trying to be set on a copy of a slice from a DataFrame.\n",
      "Try using .loc[row_indexer,col_indexer] = value instead\n",
      "\n",
      "See the caveats in the documentation: http://pandas.pydata.org/pandas-docs/stable/indexing.html#indexing-view-versus-copy\n",
      "  self.obj[item_labels[indexer[info_axis]]] = value\n",
      "/Users/elena/anaconda/lib/python2.7/site-packages/pandas/core/indexing.py:465: SettingWithCopyWarning: \n",
      "A value is trying to be set on a copy of a slice from a DataFrame.\n",
      "Try using .loc[row_indexer,col_indexer] = value instead\n",
      "\n",
      "See the caveats in the documentation: http://pandas.pydata.org/pandas-docs/stable/indexing.html#indexing-view-versus-copy\n",
      "  self.obj[item] = s\n"
     ]
    },
    {
     "data": {
      "text/plain": [
       "<matplotlib.axes._subplots.AxesSubplot at 0x103f45710>"
      ]
     },
     "execution_count": 6,
     "metadata": {},
     "output_type": "execute_result"
    },
    {
     "data": {
      "image/png": "[encoded data removed]",
      "text/plain": [
       "<matplotlib.figure.Figure at 0x117c41dd0>"
      ]
     },
     "metadata": {},
     "output_type": "display_data"
    }
   ],
   "source": [
    "# Based on analysis presented in Kaggle forum, get rid of a couple highly\n",
    "# correlated categorical variables:\n",
    "#get_rid_of = list(['cat2-','cat6-','cat8-','cat7-','cat16-'])\n",
    "new_cat_list = deepcopy(keepcats)\n",
    "new_cat_list.remove(\"cat2\")\n",
    "new_cat_list.remove(\"cat6\")\n",
    "new_cat_list.remove(\"cat8\")\n",
    "new_cat_list.remove(\"cat7\")\n",
    "new_cat_list.remove(\"cat16\")\n",
    "\n",
    "dataset_cat = train[new_cat_list]\n",
    "test_cat = test[new_cat_list]\n",
    "\n",
    "# Use the concatenated list of test and train categorical data\n",
    "# so we know the number of unique variables that are found\n",
    "# in each category.\n",
    "full_cat = pd.concat([dataset_cat,test_cat],ignore_index=True)\n",
    "\n",
    "for cat in new_cat_list:\n",
    "    converted = convert_strings(full_cat.loc[:,cat])\n",
    "    dataset_cat.loc[:,cat]=converted[0:len(dataset_cat)]\n",
    "    test_cat.loc[:,cat]=converted[len(dataset_cat):]\n",
    "    \n",
    "\n",
    "final_data = pd.concat([dataset_cont,dataset_cat],axis=1)\n",
    "y = final_data['log-loss']\n",
    "x = final_data.drop('log-loss',axis=1)\n",
    "\n",
    "sns.distplot(y)"
   ]
  },
  {
   "cell_type": "code",
   "execution_count": 7,
   "metadata": {
    "collapsed": false
   },
   "outputs": [
    {
     "data": {
      "text/html": [
       "<div>\n",
       "<table border=\"1\" class=\"dataframe\">\n",
       "  <thead>\n",
       "    <tr style=\"text-align: right;\">\n",
       "      <th></th>\n",
       "      <th>cont2</th>\n",
       "      <th>cont3</th>\n",
       "      <th>cont4</th>\n",
       "      <th>cont5</th>\n",
       "      <th>cont7</th>\n",
       "      <th>cont8</th>\n",
       "      <th>cont9</th>\n",
       "      <th>cont10</th>\n",
       "      <th>cont12</th>\n",
       "      <th>cont13</th>\n",
       "      <th>...</th>\n",
       "      <th>cat107</th>\n",
       "      <th>cat108</th>\n",
       "      <th>cat109</th>\n",
       "      <th>cat110</th>\n",
       "      <th>cat111</th>\n",
       "      <th>cat112</th>\n",
       "      <th>cat113</th>\n",
       "      <th>cat114</th>\n",
       "      <th>cat115</th>\n",
       "      <th>cat116</th>\n",
       "    </tr>\n",
       "  </thead>\n",
       "  <tbody>\n",
       "    <tr>\n",
       "      <th>0</th>\n",
       "      <td>0.245921</td>\n",
       "      <td>0.187583</td>\n",
       "      <td>0.789639</td>\n",
       "      <td>0.310061</td>\n",
       "      <td>0.335060</td>\n",
       "      <td>0.30260</td>\n",
       "      <td>0.67135</td>\n",
       "      <td>0.83510</td>\n",
       "      <td>0.594646</td>\n",
       "      <td>0.822493</td>\n",
       "      <td>...</td>\n",
       "      <td>9.0</td>\n",
       "      <td>6.0</td>\n",
       "      <td>46.0</td>\n",
       "      <td>28.0</td>\n",
       "      <td>2.0</td>\n",
       "      <td>19.0</td>\n",
       "      <td>57.0</td>\n",
       "      <td>0.0</td>\n",
       "      <td>14.0</td>\n",
       "      <td>288.0</td>\n",
       "    </tr>\n",
       "    <tr>\n",
       "      <th>1</th>\n",
       "      <td>0.737068</td>\n",
       "      <td>0.592681</td>\n",
       "      <td>0.614134</td>\n",
       "      <td>0.885834</td>\n",
       "      <td>0.436585</td>\n",
       "      <td>0.60087</td>\n",
       "      <td>0.35127</td>\n",
       "      <td>0.43919</td>\n",
       "      <td>0.366307</td>\n",
       "      <td>0.611431</td>\n",
       "      <td>...</td>\n",
       "      <td>10.0</td>\n",
       "      <td>10.0</td>\n",
       "      <td>34.0</td>\n",
       "      <td>67.0</td>\n",
       "      <td>0.0</td>\n",
       "      <td>22.0</td>\n",
       "      <td>39.0</td>\n",
       "      <td>0.0</td>\n",
       "      <td>14.0</td>\n",
       "      <td>94.0</td>\n",
       "    </tr>\n",
       "    <tr>\n",
       "      <th>2</th>\n",
       "      <td>0.358319</td>\n",
       "      <td>0.484196</td>\n",
       "      <td>0.236924</td>\n",
       "      <td>0.397069</td>\n",
       "      <td>0.315545</td>\n",
       "      <td>0.27320</td>\n",
       "      <td>0.26076</td>\n",
       "      <td>0.32446</td>\n",
       "      <td>0.373424</td>\n",
       "      <td>0.195709</td>\n",
       "      <td>...</td>\n",
       "      <td>5.0</td>\n",
       "      <td>0.0</td>\n",
       "      <td>2.0</td>\n",
       "      <td>87.0</td>\n",
       "      <td>0.0</td>\n",
       "      <td>28.0</td>\n",
       "      <td>6.0</td>\n",
       "      <td>0.0</td>\n",
       "      <td>8.0</td>\n",
       "      <td>167.0</td>\n",
       "    </tr>\n",
       "    <tr>\n",
       "      <th>3</th>\n",
       "      <td>0.555782</td>\n",
       "      <td>0.527991</td>\n",
       "      <td>0.373816</td>\n",
       "      <td>0.422268</td>\n",
       "      <td>0.391128</td>\n",
       "      <td>0.31796</td>\n",
       "      <td>0.32128</td>\n",
       "      <td>0.44467</td>\n",
       "      <td>0.321570</td>\n",
       "      <td>0.605077</td>\n",
       "      <td>...</td>\n",
       "      <td>10.0</td>\n",
       "      <td>10.0</td>\n",
       "      <td>34.0</td>\n",
       "      <td>69.0</td>\n",
       "      <td>2.0</td>\n",
       "      <td>39.0</td>\n",
       "      <td>5.0</td>\n",
       "      <td>0.0</td>\n",
       "      <td>14.0</td>\n",
       "      <td>88.0</td>\n",
       "    </tr>\n",
       "    <tr>\n",
       "      <th>4</th>\n",
       "      <td>0.159990</td>\n",
       "      <td>0.527991</td>\n",
       "      <td>0.473202</td>\n",
       "      <td>0.704268</td>\n",
       "      <td>0.247408</td>\n",
       "      <td>0.24564</td>\n",
       "      <td>0.22089</td>\n",
       "      <td>0.21230</td>\n",
       "      <td>0.202213</td>\n",
       "      <td>0.246011</td>\n",
       "      <td>...</td>\n",
       "      <td>6.0</td>\n",
       "      <td>1.0</td>\n",
       "      <td>67.0</td>\n",
       "      <td>51.0</td>\n",
       "      <td>2.0</td>\n",
       "      <td>50.0</td>\n",
       "      <td>39.0</td>\n",
       "      <td>0.0</td>\n",
       "      <td>10.0</td>\n",
       "      <td>63.0</td>\n",
       "    </tr>\n",
       "  </tbody>\n",
       "</table>\n",
       "<p>5 rows × 123 columns</p>\n",
       "</div>"
      ],
      "text/plain": [
       "      cont2     cont3     cont4     cont5     cont7    cont8    cont9  \\\n",
       "0  0.245921  0.187583  0.789639  0.310061  0.335060  0.30260  0.67135   \n",
       "1  0.737068  0.592681  0.614134  0.885834  0.436585  0.60087  0.35127   \n",
       "2  0.358319  0.484196  0.236924  0.397069  0.315545  0.27320  0.26076   \n",
       "3  0.555782  0.527991  0.373816  0.422268  0.391128  0.31796  0.32128   \n",
       "4  0.159990  0.527991  0.473202  0.704268  0.247408  0.24564  0.22089   \n",
       "\n",
       "    cont10    cont12    cont13   ...    cat107  cat108  cat109  cat110  \\\n",
       "0  0.83510  0.594646  0.822493   ...       9.0     6.0    46.0    28.0   \n",
       "1  0.43919  0.366307  0.611431   ...      10.0    10.0    34.0    67.0   \n",
       "2  0.32446  0.373424  0.195709   ...       5.0     0.0     2.0    87.0   \n",
       "3  0.44467  0.321570  0.605077   ...      10.0    10.0    34.0    69.0   \n",
       "4  0.21230  0.202213  0.246011   ...       6.0     1.0    67.0    51.0   \n",
       "\n",
       "   cat111  cat112  cat113  cat114  cat115  cat116  \n",
       "0     2.0    19.0    57.0     0.0    14.0   288.0  \n",
       "1     0.0    22.0    39.0     0.0    14.0    94.0  \n",
       "2     0.0    28.0     6.0     0.0     8.0   167.0  \n",
       "3     2.0    39.0     5.0     0.0    14.0    88.0  \n",
       "4     2.0    50.0    39.0     0.0    10.0    63.0  \n",
       "\n",
       "[5 rows x 123 columns]"
      ]
     },
     "execution_count": 7,
     "metadata": {},
     "output_type": "execute_result"
    }
   ],
   "source": [
    "final_data.head()"
   ]
  },
  {
   "cell_type": "code",
   "execution_count": 8,
   "metadata": {
    "collapsed": false
   },
   "outputs": [
    {
     "name": "stdout",
     "output_type": "stream",
     "text": [
      "1305.5304889\n",
      "1305.57855121\n"
     ]
    }
   ],
   "source": [
    "X_train, X_test, y_train, y_test = train_test_split(x, y, test_size=.8)\n",
    "\n",
    "newmodel = LinearRegression()\n",
    "newmodel.fit(X_train,y_train)\n",
    "pred = newmodel.predict(X_test)\n",
    "print mean_absolute_error(np.expm1(y_test),np.expm1(pred))\n",
    "\n",
    "newnew = LinearRegression(normalize=True)\n",
    "newnew.fit(X_train,y_train)\n",
    "pred2 = newnew.predict(X_test)\n",
    "print mean_absolute_error(np.expm1(y_test),np.expm1(pred2))\n"
   ]
  },
  {
   "cell_type": "code",
   "execution_count": 9,
   "metadata": {
    "collapsed": false
   },
   "outputs": [
    {
     "data": {
      "text/html": [
       "<div>\n",
       "<table border=\"1\" class=\"dataframe\">\n",
       "  <thead>\n",
       "    <tr style=\"text-align: right;\">\n",
       "      <th></th>\n",
       "      <th>cont2</th>\n",
       "      <th>cont3</th>\n",
       "      <th>cont4</th>\n",
       "      <th>cont5</th>\n",
       "      <th>cont7</th>\n",
       "      <th>cont8</th>\n",
       "      <th>cont9</th>\n",
       "      <th>cont10</th>\n",
       "      <th>cont12</th>\n",
       "      <th>cont13</th>\n",
       "      <th>...</th>\n",
       "      <th>cat107</th>\n",
       "      <th>cat108</th>\n",
       "      <th>cat109</th>\n",
       "      <th>cat110</th>\n",
       "      <th>cat111</th>\n",
       "      <th>cat112</th>\n",
       "      <th>cat113</th>\n",
       "      <th>cat114</th>\n",
       "      <th>cat115</th>\n",
       "      <th>cat116</th>\n",
       "    </tr>\n",
       "  </thead>\n",
       "  <tbody>\n",
       "    <tr>\n",
       "      <th>0</th>\n",
       "      <td>0.299102</td>\n",
       "      <td>0.246911</td>\n",
       "      <td>0.402922</td>\n",
       "      <td>0.281143</td>\n",
       "      <td>0.317681</td>\n",
       "      <td>0.61229</td>\n",
       "      <td>0.34365</td>\n",
       "      <td>0.38016</td>\n",
       "      <td>0.369858</td>\n",
       "      <td>0.704052</td>\n",
       "      <td>...</td>\n",
       "      <td>11.0</td>\n",
       "      <td>10.0</td>\n",
       "      <td>30.0</td>\n",
       "      <td>26.0</td>\n",
       "      <td>0.0</td>\n",
       "      <td>35.0</td>\n",
       "      <td>23.0</td>\n",
       "      <td>0.0</td>\n",
       "      <td>16.0</td>\n",
       "      <td>169.0</td>\n",
       "    </tr>\n",
       "    <tr>\n",
       "      <th>1</th>\n",
       "      <td>0.620805</td>\n",
       "      <td>0.654310</td>\n",
       "      <td>0.946616</td>\n",
       "      <td>0.836443</td>\n",
       "      <td>0.443760</td>\n",
       "      <td>0.71330</td>\n",
       "      <td>0.51890</td>\n",
       "      <td>0.60401</td>\n",
       "      <td>0.675759</td>\n",
       "      <td>0.453468</td>\n",
       "      <td>...</td>\n",
       "      <td>5.0</td>\n",
       "      <td>1.0</td>\n",
       "      <td>30.0</td>\n",
       "      <td>58.0</td>\n",
       "      <td>3.0</td>\n",
       "      <td>32.0</td>\n",
       "      <td>58.0</td>\n",
       "      <td>0.0</td>\n",
       "      <td>11.0</td>\n",
       "      <td>173.0</td>\n",
       "    </tr>\n",
       "    <tr>\n",
       "      <th>2</th>\n",
       "      <td>0.737068</td>\n",
       "      <td>0.711159</td>\n",
       "      <td>0.412789</td>\n",
       "      <td>0.718531</td>\n",
       "      <td>0.325779</td>\n",
       "      <td>0.29758</td>\n",
       "      <td>0.34365</td>\n",
       "      <td>0.30529</td>\n",
       "      <td>0.241676</td>\n",
       "      <td>0.258586</td>\n",
       "      <td>...</td>\n",
       "      <td>6.0</td>\n",
       "      <td>0.0</td>\n",
       "      <td>30.0</td>\n",
       "      <td>62.0</td>\n",
       "      <td>2.0</td>\n",
       "      <td>46.0</td>\n",
       "      <td>4.0</td>\n",
       "      <td>0.0</td>\n",
       "      <td>10.0</td>\n",
       "      <td>51.0</td>\n",
       "    </tr>\n",
       "    <tr>\n",
       "      <th>3</th>\n",
       "      <td>0.681761</td>\n",
       "      <td>0.592681</td>\n",
       "      <td>0.354893</td>\n",
       "      <td>0.397069</td>\n",
       "      <td>0.342355</td>\n",
       "      <td>0.40028</td>\n",
       "      <td>0.33237</td>\n",
       "      <td>0.31480</td>\n",
       "      <td>0.341872</td>\n",
       "      <td>0.592264</td>\n",
       "      <td>...</td>\n",
       "      <td>10.0</td>\n",
       "      <td>10.0</td>\n",
       "      <td>30.0</td>\n",
       "      <td>61.0</td>\n",
       "      <td>0.0</td>\n",
       "      <td>25.0</td>\n",
       "      <td>9.0</td>\n",
       "      <td>0.0</td>\n",
       "      <td>15.0</td>\n",
       "      <td>76.0</td>\n",
       "    </tr>\n",
       "    <tr>\n",
       "      <th>4</th>\n",
       "      <td>0.299102</td>\n",
       "      <td>0.263570</td>\n",
       "      <td>0.696873</td>\n",
       "      <td>0.302678</td>\n",
       "      <td>0.391833</td>\n",
       "      <td>0.23688</td>\n",
       "      <td>0.43731</td>\n",
       "      <td>0.50556</td>\n",
       "      <td>0.352251</td>\n",
       "      <td>0.301535</td>\n",
       "      <td>...</td>\n",
       "      <td>4.0</td>\n",
       "      <td>1.0</td>\n",
       "      <td>2.0</td>\n",
       "      <td>100.0</td>\n",
       "      <td>0.0</td>\n",
       "      <td>30.0</td>\n",
       "      <td>45.0</td>\n",
       "      <td>2.0</td>\n",
       "      <td>9.0</td>\n",
       "      <td>163.0</td>\n",
       "    </tr>\n",
       "  </tbody>\n",
       "</table>\n",
       "<p>5 rows × 122 columns</p>\n",
       "</div>"
      ],
      "text/plain": [
       "      cont2     cont3     cont4     cont5     cont7    cont8    cont9  \\\n",
       "0  0.299102  0.246911  0.402922  0.281143  0.317681  0.61229  0.34365   \n",
       "1  0.620805  0.654310  0.946616  0.836443  0.443760  0.71330  0.51890   \n",
       "2  0.737068  0.711159  0.412789  0.718531  0.325779  0.29758  0.34365   \n",
       "3  0.681761  0.592681  0.354893  0.397069  0.342355  0.40028  0.33237   \n",
       "4  0.299102  0.263570  0.696873  0.302678  0.391833  0.23688  0.43731   \n",
       "\n",
       "    cont10    cont12    cont13   ...    cat107  cat108  cat109  cat110  \\\n",
       "0  0.38016  0.369858  0.704052   ...      11.0    10.0    30.0    26.0   \n",
       "1  0.60401  0.675759  0.453468   ...       5.0     1.0    30.0    58.0   \n",
       "2  0.30529  0.241676  0.258586   ...       6.0     0.0    30.0    62.0   \n",
       "3  0.31480  0.341872  0.592264   ...      10.0    10.0    30.0    61.0   \n",
       "4  0.50556  0.352251  0.301535   ...       4.0     1.0     2.0   100.0   \n",
       "\n",
       "   cat111  cat112  cat113  cat114  cat115  cat116  \n",
       "0     0.0    35.0    23.0     0.0    16.0   169.0  \n",
       "1     3.0    32.0    58.0     0.0    11.0   173.0  \n",
       "2     2.0    46.0     4.0     0.0    10.0    51.0  \n",
       "3     0.0    25.0     9.0     0.0    15.0    76.0  \n",
       "4     0.0    30.0    45.0     2.0     9.0   163.0  \n",
       "\n",
       "[5 rows x 122 columns]"
      ]
     },
     "execution_count": 9,
     "metadata": {},
     "output_type": "execute_result"
    }
   ],
   "source": [
    "full_list = newlist+new_cat_list\n",
    "test_dataset = test[full_list]\n",
    "\n",
    "for cat in new_cat_list:\n",
    "    test_dataset.loc[:,cat]=convert_strings(test_dataset.loc[:,cat])\n",
    "test_dataset.head()"
   ]
  },
  {
   "cell_type": "code",
   "execution_count": 10,
   "metadata": {
    "collapsed": false
   },
   "outputs": [
    {
     "data": {
      "text/plain": [
       "<matplotlib.legend.Legend at 0x117bd9d90>"
      ]
     },
     "execution_count": 10,
     "metadata": {},
     "output_type": "execute_result"
    },
    {
     "data": {
      "image/png": "[encoded data removed]",
      "text/plain": [
       "<matplotlib.figure.Figure at 0x117bd9f50>"
      ]
     },
     "metadata": {},
     "output_type": "display_data"
    }
   ],
   "source": [
    "# Use full dataset to make a model\n",
    "model = LinearRegression()\n",
    "model.fit(x,y)\n",
    "\n",
    "submission.iloc[:, 1] = np.expm1(model.predict(test_dataset))\n",
    "#submission.to_csv(loc+'linear_reg1.csv', index=None)\n",
    "\n",
    "fig,ax = plt.subplots()\n",
    "sns.distplot(model.predict(test_dataset),ax=ax,label='Prediction - Test')\n",
    "sns.distplot(y,hist=False,ax=ax,label='Loss - Training')\n",
    "plt.legend()"
   ]
  },
  {
   "cell_type": "markdown",
   "metadata": {},
   "source": [
    "## Lasso"
   ]
  },
  {
   "cell_type": "code",
   "execution_count": 11,
   "metadata": {
    "collapsed": false
   },
   "outputs": [
    {
     "data": {
      "text/plain": [
       "[<matplotlib.lines.Line2D at 0x1195f4f90>]"
      ]
     },
     "execution_count": 11,
     "metadata": {},
     "output_type": "execute_result"
    },
    {
     "data": {
      "image/png": "[encoded data removed]",
      "text/plain": [
       "<matplotlib.figure.Figure at 0x117b740d0>"
      ]
     },
     "metadata": {},
     "output_type": "display_data"
    }
   ],
   "source": [
    "X_train, X_test, y_train, y_test = train_test_split(x, y, test_size=.25)\n",
    "\n",
    "alphas = np.linspace(0.01,0.1,10)\n",
    "\n",
    "maes = []\n",
    "maes_avg = []\n",
    "for a in alphas:\n",
    "    model = Lasso(alpha=a)\n",
    "    model.fit(X_train,y_train)\n",
    "    pred = model.predict(X_test)\n",
    "    maes.append(mean_absolute_error(np.expm1(y_test),np.expm1(pred)))\n",
    "    \n",
    "    model2 = LinearRegression()\n",
    "    model2.fit(X_train,y_train)\n",
    "    pred2 = model2.predict(X_test)\n",
    "    maes_avg.append(mean_absolute_error(np.expm1(y_test),np.expm1((pred+pred2)/2.0)))\n",
    "    \n",
    "plt.plot(alphas,maes)\n",
    "plt.hlines(1298,0.01,0.1)\n",
    "plt.plot(alphas,maes_avg)"
   ]
  },
  {
   "cell_type": "code",
   "execution_count": 12,
   "metadata": {
    "collapsed": false
   },
   "outputs": [
    {
     "name": "stdout",
     "output_type": "stream",
     "text": [
      "1788.70076508\n",
      "1795.27310076\n"
     ]
    }
   ],
   "source": [
    "ys = dataset_cont['log-loss']\n",
    "xs = dataset_cont.drop('log-loss',axis=1)\n",
    "\n",
    "X_train, X_test, y_train, y_test = train_test_split(xs, ys, test_size=.25)\n",
    "\n",
    "model1 = LinearRegression()\n",
    "model1.fit(X_train,y_train)\n",
    "\n",
    "model2 = Lasso()\n",
    "model2.fit(X_train,y_train)\n",
    "\n",
    "print mean_absolute_error(np.expm1(y_test),np.expm1(model1.predict(X_test)))\n",
    "print mean_absolute_error(np.expm1(y_test),np.expm1(model2.predict(X_test)))"
   ]
  },
  {
   "cell_type": "markdown",
   "metadata": {},
   "source": [
    "## Ridge"
   ]
  },
  {
   "cell_type": "code",
   "execution_count": 13,
   "metadata": {
    "collapsed": false
   },
   "outputs": [
    {
     "data": {
      "text/plain": [
       "[<matplotlib.lines.Line2D at 0x117ec8fd0>]"
      ]
     },
     "execution_count": 13,
     "metadata": {},
     "output_type": "execute_result"
    },
    {
     "data": {
      "image/png": "[encoded data removed]",
      "text/plain": [
       "<matplotlib.figure.Figure at 0x104057d90>"
      ]
     },
     "metadata": {},
     "output_type": "display_data"
    }
   ],
   "source": [
    "y = final_data['log-loss']\n",
    "x = final_data.drop('log-loss',axis=1)\n",
    "X_train, X_test, y_train, y_test = train_test_split(xs, ys, test_size=.25)\n",
    "\n",
    "\n",
    "alphas = np.linspace(1e-9,5,100)\n",
    "maes = []\n",
    "for a in alphas:\n",
    "    model = Ridge(alpha=a,normalize=True)\n",
    "    model.fit(X_train,y_train)\n",
    "    \n",
    "    pred = model.predict(X_test)\n",
    "    maes.append(mean_absolute_error(np.expm1(y_test),np.expm1(pred)))\n",
    "    \n",
    "plt.plot(alphas,maes)\n"
   ]
  },
  {
   "cell_type": "markdown",
   "metadata": {},
   "source": [
    "## Loop through various models\n",
    "Adding features one at a time"
   ]
  },
  {
   "cell_type": "code",
   "execution_count": 24,
   "metadata": {
    "collapsed": false
   },
   "outputs": [
    {
     "name": "stdout",
     "output_type": "stream",
     "text": [
      "cont10  Linear MAE dropped by  31.6172514374\n",
      "cont10  Ridge MAE dropped by  31.404271229\n",
      "cat1  Linear MAE dropped by  59.7642102907\n",
      "cat1  Ridge MAE dropped by  57.5432388131\n",
      "cat3  Linear MAE dropped by  25.0454603264\n",
      "cat3  Ridge MAE dropped by  20.7670858583\n",
      "cat4  Linear MAE dropped by  43.2227897634\n",
      "cat4  Ridge MAE dropped by  43.6339639143\n",
      "cat5  Linear MAE dropped by  24.3232572\n",
      "cat9  Linear MAE dropped by  56.3162349101\n",
      "cat9  Ridge MAE dropped by  52.9739158373\n",
      "cat10  Linear MAE dropped by  39.6337674056\n",
      "cat10  Ridge MAE dropped by  45.4643772008\n",
      "cat12  Linear MAE dropped by  33.689814936\n",
      "cat12  Ridge MAE dropped by  37.3832230474\n",
      "cat27  Linear MAE dropped by  23.8912359552\n",
      "cat27  Ridge MAE dropped by  22.9270253492\n",
      "cat35  Linear MAE dropped by  24.2894770247\n",
      "cat35  Ridge MAE dropped by  26.4982884299\n",
      "cat37  Linear MAE dropped by  23.040222931\n",
      "cat37  Ridge MAE dropped by  22.5980523995\n",
      "cat50  Linear MAE dropped by  23.9586649307\n",
      "cat59  Linear MAE dropped by  59.6490362475\n",
      "cat59  Ridge MAE dropped by  46.9808590755\n",
      "cat62  Linear MAE dropped by  29.9023572007\n",
      "cat66  Linear MAE dropped by  31.6114313745\n",
      "cat66  Ridge MAE dropped by  23.1911833419\n",
      "cat69  Linear MAE dropped by  56.0547685411\n",
      "cat69  Ridge MAE dropped by  47.916943582\n",
      "cat71  Linear MAE dropped by  83.6892633741\n",
      "cat71  Ridge MAE dropped by  73.949772358\n",
      "cat79  Linear MAE dropped by  55.0338819881\n",
      "cat79  Ridge MAE dropped by  68.3769818704\n",
      "cat80  Linear MAE dropped by  49.3691718099\n",
      "cat80  Ridge MAE dropped by  44.916399989\n",
      "cat81  Linear MAE dropped by  27.3936166278\n",
      "cat81  Ridge MAE dropped by  27.3008039962\n",
      "cat83  Linear MAE dropped by  25.5864135212\n",
      "cat83  Ridge MAE dropped by  23.9791060613\n",
      "cat91  Linear MAE dropped by  21.9854110989\n",
      "cat93  Linear MAE dropped by  22.4910954199\n",
      "cat101  Ridge MAE dropped by  26.7272524416\n"
     ]
    },
    {
     "data": {
      "image/png": "[encoded data removed]",
      "text/plain": [
       "<matplotlib.figure.Figure at 0x117dc6810>"
      ]
     },
     "metadata": {},
     "output_type": "display_data"
    }
   ],
   "source": [
    "list_of_vars = list(final_data.columns)\n",
    "list_of_vars.remove('log-loss')\n",
    "\n",
    "\n",
    "mae_linear = []\n",
    "mae_lasso = []\n",
    "mae_randomf = []\n",
    "mae_ridge = []\n",
    "\n",
    "y = final_data['log-loss']\n",
    "\n",
    "df = pd.DataFrame()\n",
    "for l in range(len(list_of_vars)):\n",
    "    df[list_of_vars[l]] = final_data[list_of_vars[l]]\n",
    "    \n",
    "    X_train, X_test, y_train, y_test = train_test_split(df, y, test_size=.25)\n",
    "\n",
    "    # Linear Regression\n",
    "    m1 = LinearRegression()\n",
    "    m1.fit(X_train,y_train)\n",
    "    pred1 = m1.predict(X_test)\n",
    "    mae_linear.append(mean_absolute_error(np.expm1(y_test),np.expm1(pred1)))\n",
    "    \n",
    "    if (l>=1):\n",
    "        if ((mae_linear[-2] - mae_linear[-1]) > 20):\n",
    "            print list_of_vars[l],' Linear MAE dropped by ',mae_linear[-2]-mae_linear[-1]\n",
    "    \n",
    "    # Lasso\n",
    "    m2 = Lasso()\n",
    "    m2.fit(X_train,y_train)\n",
    "    pred2 = m2.predict(X_test)\n",
    "    mae_lasso.append(mean_absolute_error(np.expm1(y_test),np.expm1(pred2)))\n",
    "    \n",
    "#     # Random Forest\n",
    "#     m3 = RandomForestRegressor(min_samples_split=5)\n",
    "#     m3.fit(X_train,y_train)\n",
    "#     pred3 = m3.predict(X_test)\n",
    "#     mae_randomf.append(mean_absolute_error(np.expm1(y_test),np.expm1(pred3)))\n",
    "    \n",
    "    # Ridge\n",
    "    m4 = Ridge(alpha=0.2,normalize=True)\n",
    "    m4.fit(X_train,y_train)\n",
    "    pred4 = m4.predict(X_test)\n",
    "    mae_ridge.append(mean_absolute_error(np.expm1(y_test),np.expm1(pred4)))\n",
    "    \n",
    "    if (l>=1):\n",
    "        if ((mae_ridge[-2] - mae_ridge[-1]) > 20):\n",
    "            print list_of_vars[l],' Ridge MAE dropped by ',mae_ridge[-2]-mae_ridge[-1]\n",
    "    \n",
    "    \n",
    "    \n",
    "sns.set_context('poster')\n",
    "sns.set_style('white')\n",
    "plt.figure(figsize=(20,8))\n",
    "plt.plot(mae_linear,label='Linear')\n",
    "plt.plot(mae_lasso,label='Lasso')\n",
    "#plt.plot(mae_randomf,label='Random Forest')\n",
    "plt.plot(mae_ridge,label='Ridge')\n",
    "plt.legend(loc='best')\n",
    "plt.ylabel('MAE')\n",
    "plt.xlabel('Number of features')\n",
    "plt.xlim([0,len(list_of_vars)])\n",
    "ax = plt.gca()\n",
    "ax.set_xticks(np.arange(0,len(list_of_vars)));\n",
    "ax.set_xticklabels(list_of_vars,rotation=75);"
   ]
  },
  {
   "cell_type": "markdown",
   "metadata": {
    "collapsed": true
   },
   "source": [
    "### Try only important features\n",
    "As defined from the image above."
   ]
  },
  {
   "cell_type": "code",
   "execution_count": 35,
   "metadata": {
    "collapsed": false
   },
   "outputs": [
    {
     "name": "stdout",
     "output_type": "stream",
     "text": [
      "Was 1479, 1410.98689137\n",
      "Was 1499, 1417.540564\n",
      "1412.72276256\n"
     ]
    }
   ],
   "source": [
    "#important = list([\"cont2\",\"cat1\",\"cat9\",\"cat57\",\"cat59\",\"cat80\",\"cat97\"])\n",
    "important = list([\"cont10\",\"cat1\",\"cat3\",\"cat4\",\"cat9\",\n",
    "                  \"cat10\",\"cat12\",\"cat27\",\"cat35\",\"cat37\",\n",
    "                  \"cat59\",\"cat66\",\"cat69\",\"cat71\",\"cat79\",\n",
    "                  \"cat80\",\"cat81\",\"cat83\"])\n",
    "\n",
    "keep_df = final_data[important]\n",
    "\n",
    "X_train, X_test, y_train, y_test = train_test_split(keep_df, y, test_size=.8)\n",
    "\n",
    "# Linear Regression\n",
    "m1 = LinearRegression(normalize=True)\n",
    "m1.fit(X_train,y_train)\n",
    "pred1 = m1.predict(X_test)\n",
    "print 'Was 1479,',mean_absolute_error(np.expm1(y_test),np.expm1(pred1))\n",
    "\n",
    "# Linear Regression\n",
    "m2 = Ridge(alpha=0.2,normalize=True)\n",
    "m2.fit(X_train,y_train)\n",
    "pred2 = m2.predict(X_test)\n",
    "print 'Was 1499,',mean_absolute_error(np.expm1(y_test),np.expm1(pred2))\n",
    "\n",
    "print mean_absolute_error(np.expm1(y_test),np.expm1((pred1+pred2)/2.0))"
   ]
  },
  {
   "cell_type": "code",
   "execution_count": 36,
   "metadata": {
    "collapsed": false
   },
   "outputs": [
    {
     "name": "stdout",
     "output_type": "stream",
     "text": [
      "1407.33810318\n",
      "1412.9510733\n"
     ]
    }
   ],
   "source": [
    "normal_features = deepcopy(keep_df)\n",
    "normal_features['cont10']=np.log1p(normal_features['cont10'])\n",
    "\n",
    "X_train, X_test, y_train, y_test = train_test_split(normal_features, y, test_size=.3)\n",
    "\n",
    "# Linear Regression\n",
    "m1 = LinearRegression(normalize=True)\n",
    "m1.fit(X_train,y_train)\n",
    "pred1 = m1.predict(X_test)\n",
    "print mean_absolute_error(np.expm1(y_test),np.expm1(pred1))\n",
    "\n",
    "# Linear Regression\n",
    "m2 = Ridge(alpha=0.2,normalize=True)\n",
    "m2.fit(X_train,y_train)\n",
    "pred2 = m2.predict(X_test)\n",
    "print mean_absolute_error(np.expm1(y_test),np.expm1(pred2))\n"
   ]
  },
  {
   "cell_type": "code",
   "execution_count": null,
   "metadata": {
    "collapsed": true
   },
   "outputs": [],
   "source": []
  }
 ],
 "metadata": {
  "kernelspec": {
   "display_name": "Python 2",
   "language": "python",
   "name": "python2"
  },
  "language_info": {
   "codemirror_mode": {
    "name": "ipython",
    "version": 2
   },
   "file_extension": ".py",
   "mimetype": "text/x-python",
   "name": "python",
   "nbconvert_exporter": "python",
   "pygments_lexer": "ipython2",
   "version": "2.7.12"
  }
 },
 "nbformat": 4,
 "nbformat_minor": 0
}
