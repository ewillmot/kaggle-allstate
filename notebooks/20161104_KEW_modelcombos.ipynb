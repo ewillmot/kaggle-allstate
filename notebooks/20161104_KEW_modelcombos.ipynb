{
 "cells": [
  {
   "cell_type": "markdown",
   "metadata": {},
   "source": [
    "## Summary\n"
   ]
  },
  {
   "cell_type": "code",
   "execution_count": 1,
   "metadata": {
    "collapsed": true
   },
   "outputs": [],
   "source": [
    "import numpy as np\n",
    "import pandas as pd\n",
    "import matplotlib.pyplot as plt\n",
    "import seaborn as sns\n",
    "from sklearn.ensemble import RandomForestRegressor\n",
    "from sklearn.cross_validation import train_test_split\n",
    "from sklearn.metrics import mean_squared_error,mean_absolute_error\n",
    "from copy import deepcopy\n",
    "import os\n",
    "from sklearn.preprocessing import LabelEncoder, OneHotEncoder\n",
    "from sklearn.linear_model import LinearRegression, Ridge\n",
    "\n",
    "%matplotlib inline"
   ]
  },
  {
   "cell_type": "code",
   "execution_count": 2,
   "metadata": {
    "collapsed": true
   },
   "outputs": [],
   "source": [
    "loc = '/Users/elena/Documents/Kaggle/Allstate/data/'\n",
    "train = pd.read_csv(os.path.join(loc,'train.csv'))\n",
    "train.drop('id',axis=1,inplace=True)\n",
    "\n",
    "test = pd.read_csv(os.path.join(loc,'test.csv'))\n",
    "ids = test['id']\n",
    "test.drop('id',axis=1,inplace=True)\n",
    "\n",
    "submission = pd.read_csv(os.path.join(loc,\"sample_submission.csv\"))"
   ]
  },
  {
   "cell_type": "code",
   "execution_count": 3,
   "metadata": {
    "collapsed": false
   },
   "outputs": [
    {
     "data": {
      "text/html": [
       "<div>\n",
       "<table border=\"1\" class=\"dataframe\">\n",
       "  <thead>\n",
       "    <tr style=\"text-align: right;\">\n",
       "      <th></th>\n",
       "      <th>cat1</th>\n",
       "      <th>cat10</th>\n",
       "      <th>cat100</th>\n",
       "      <th>cat101</th>\n",
       "      <th>cat102</th>\n",
       "      <th>cat103</th>\n",
       "      <th>cat104</th>\n",
       "      <th>cat105</th>\n",
       "      <th>cat106</th>\n",
       "      <th>cat107</th>\n",
       "      <th>...</th>\n",
       "      <th>cont13</th>\n",
       "      <th>cont14</th>\n",
       "      <th>cont2</th>\n",
       "      <th>cont3</th>\n",
       "      <th>cont4</th>\n",
       "      <th>cont5</th>\n",
       "      <th>cont6</th>\n",
       "      <th>cont7</th>\n",
       "      <th>cont8</th>\n",
       "      <th>cont9</th>\n",
       "    </tr>\n",
       "  </thead>\n",
       "  <tbody>\n",
       "    <tr>\n",
       "      <th>0</th>\n",
       "      <td>A</td>\n",
       "      <td>A</td>\n",
       "      <td>B</td>\n",
       "      <td>G</td>\n",
       "      <td>A</td>\n",
       "      <td>A</td>\n",
       "      <td>I</td>\n",
       "      <td>E</td>\n",
       "      <td>G</td>\n",
       "      <td>J</td>\n",
       "      <td>...</td>\n",
       "      <td>0.822493</td>\n",
       "      <td>0.714843</td>\n",
       "      <td>0.245921</td>\n",
       "      <td>0.187583</td>\n",
       "      <td>0.789639</td>\n",
       "      <td>0.310061</td>\n",
       "      <td>0.718367</td>\n",
       "      <td>0.335060</td>\n",
       "      <td>0.30260</td>\n",
       "      <td>0.67135</td>\n",
       "    </tr>\n",
       "    <tr>\n",
       "      <th>1</th>\n",
       "      <td>A</td>\n",
       "      <td>B</td>\n",
       "      <td>L</td>\n",
       "      <td>F</td>\n",
       "      <td>A</td>\n",
       "      <td>A</td>\n",
       "      <td>E</td>\n",
       "      <td>E</td>\n",
       "      <td>I</td>\n",
       "      <td>K</td>\n",
       "      <td>...</td>\n",
       "      <td>0.611431</td>\n",
       "      <td>0.304496</td>\n",
       "      <td>0.737068</td>\n",
       "      <td>0.592681</td>\n",
       "      <td>0.614134</td>\n",
       "      <td>0.885834</td>\n",
       "      <td>0.438917</td>\n",
       "      <td>0.436585</td>\n",
       "      <td>0.60087</td>\n",
       "      <td>0.35127</td>\n",
       "    </tr>\n",
       "    <tr>\n",
       "      <th>2</th>\n",
       "      <td>A</td>\n",
       "      <td>B</td>\n",
       "      <td>L</td>\n",
       "      <td>O</td>\n",
       "      <td>A</td>\n",
       "      <td>B</td>\n",
       "      <td>E</td>\n",
       "      <td>F</td>\n",
       "      <td>H</td>\n",
       "      <td>F</td>\n",
       "      <td>...</td>\n",
       "      <td>0.195709</td>\n",
       "      <td>0.774425</td>\n",
       "      <td>0.358319</td>\n",
       "      <td>0.484196</td>\n",
       "      <td>0.236924</td>\n",
       "      <td>0.397069</td>\n",
       "      <td>0.289648</td>\n",
       "      <td>0.315545</td>\n",
       "      <td>0.27320</td>\n",
       "      <td>0.26076</td>\n",
       "    </tr>\n",
       "    <tr>\n",
       "      <th>3</th>\n",
       "      <td>B</td>\n",
       "      <td>A</td>\n",
       "      <td>I</td>\n",
       "      <td>D</td>\n",
       "      <td>A</td>\n",
       "      <td>A</td>\n",
       "      <td>E</td>\n",
       "      <td>E</td>\n",
       "      <td>I</td>\n",
       "      <td>K</td>\n",
       "      <td>...</td>\n",
       "      <td>0.605077</td>\n",
       "      <td>0.602642</td>\n",
       "      <td>0.555782</td>\n",
       "      <td>0.527991</td>\n",
       "      <td>0.373816</td>\n",
       "      <td>0.422268</td>\n",
       "      <td>0.440945</td>\n",
       "      <td>0.391128</td>\n",
       "      <td>0.31796</td>\n",
       "      <td>0.32128</td>\n",
       "    </tr>\n",
       "    <tr>\n",
       "      <th>4</th>\n",
       "      <td>A</td>\n",
       "      <td>B</td>\n",
       "      <td>F</td>\n",
       "      <td>J</td>\n",
       "      <td>A</td>\n",
       "      <td>A</td>\n",
       "      <td>D</td>\n",
       "      <td>E</td>\n",
       "      <td>K</td>\n",
       "      <td>G</td>\n",
       "      <td>...</td>\n",
       "      <td>0.246011</td>\n",
       "      <td>0.432606</td>\n",
       "      <td>0.159990</td>\n",
       "      <td>0.527991</td>\n",
       "      <td>0.473202</td>\n",
       "      <td>0.704268</td>\n",
       "      <td>0.178193</td>\n",
       "      <td>0.247408</td>\n",
       "      <td>0.24564</td>\n",
       "      <td>0.22089</td>\n",
       "    </tr>\n",
       "  </tbody>\n",
       "</table>\n",
       "<p>5 rows × 130 columns</p>\n",
       "</div>"
      ],
      "text/plain": [
       "  cat1 cat10 cat100 cat101 cat102 cat103 cat104 cat105 cat106 cat107   ...     \\\n",
       "0    A     A      B      G      A      A      I      E      G      J   ...      \n",
       "1    A     B      L      F      A      A      E      E      I      K   ...      \n",
       "2    A     B      L      O      A      B      E      F      H      F   ...      \n",
       "3    B     A      I      D      A      A      E      E      I      K   ...      \n",
       "4    A     B      F      J      A      A      D      E      K      G   ...      \n",
       "\n",
       "     cont13    cont14     cont2     cont3     cont4     cont5     cont6  \\\n",
       "0  0.822493  0.714843  0.245921  0.187583  0.789639  0.310061  0.718367   \n",
       "1  0.611431  0.304496  0.737068  0.592681  0.614134  0.885834  0.438917   \n",
       "2  0.195709  0.774425  0.358319  0.484196  0.236924  0.397069  0.289648   \n",
       "3  0.605077  0.602642  0.555782  0.527991  0.373816  0.422268  0.440945   \n",
       "4  0.246011  0.432606  0.159990  0.527991  0.473202  0.704268  0.178193   \n",
       "\n",
       "      cont7    cont8    cont9  \n",
       "0  0.335060  0.30260  0.67135  \n",
       "1  0.436585  0.60087  0.35127  \n",
       "2  0.315545  0.27320  0.26076  \n",
       "3  0.391128  0.31796  0.32128  \n",
       "4  0.247408  0.24564  0.22089  \n",
       "\n",
       "[5 rows x 130 columns]"
      ]
     },
     "execution_count": 3,
     "metadata": {},
     "output_type": "execute_result"
    }
   ],
   "source": [
    "y = np.log1p(train['loss'].values)\n",
    "full = pd.concat([train,test],ignore_index=True)\n",
    "full = full.drop('loss',axis=1)\n",
    "full.head()"
   ]
  },
  {
   "cell_type": "code",
   "execution_count": 4,
   "metadata": {
    "collapsed": true
   },
   "outputs": [],
   "source": [
    "def convert_strings(pdseries):\n",
    "    # Function inputs a column of a pandas DataFrame,\n",
    "    # determines the number of unique entries, and assigns \n",
    "    # an integer to each entry. \n",
    "    # This is to avoid issues with non-integer data.\n",
    "      \n",
    "    array = np.array(pdseries)\n",
    "    vals = np.unique(array)\n",
    "    nums = np.arange(0,len(vals),1)\n",
    "    #new_array = np.zeros(len(array),dtype='int')     \n",
    "    new_array = np.zeros(len(array),dtype='float')\n",
    "    \n",
    "    #nums = np.linspace(0,1,len(vals))\n",
    "    #new_array = np.zeros(len(array))\n",
    "\n",
    "    for j in range(len(vals)):\n",
    "        ind = np.where(array==vals[j])[0]\n",
    "        new_array[ind]=nums[j]\n",
    "     \n",
    "    # Returns a numpy array with an integer for each entry\n",
    "    return new_array"
   ]
  },
  {
   "cell_type": "code",
   "execution_count": 5,
   "metadata": {
    "collapsed": false
   },
   "outputs": [],
   "source": [
    "# Convert to floats:\n",
    "for col in full.columns:\n",
    "    if 'cat' in col:\n",
    "        full.loc[:,col]=convert_strings(full.loc[:,col])"
   ]
  },
  {
   "cell_type": "code",
   "execution_count": 6,
   "metadata": {
    "collapsed": false
   },
   "outputs": [
    {
     "name": "stderr",
     "output_type": "stream",
     "text": [
      "/Users/elena/anaconda/lib/python2.7/site-packages/ipykernel/__main__.py:7: SettingWithCopyWarning: \n",
      "A value is trying to be set on a copy of a slice from a DataFrame.\n",
      "Try using .loc[row_indexer,col_indexer] = value instead\n",
      "\n",
      "See the caveats in the documentation: http://pandas.pydata.org/pandas-docs/stable/indexing.html#indexing-view-versus-copy\n"
     ]
    },
    {
     "data": {
      "text/html": [
       "<div>\n",
       "<table border=\"1\" class=\"dataframe\">\n",
       "  <thead>\n",
       "    <tr style=\"text-align: right;\">\n",
       "      <th></th>\n",
       "      <th>cont10</th>\n",
       "      <th>cat1</th>\n",
       "      <th>cat3</th>\n",
       "      <th>cat4</th>\n",
       "      <th>cat9</th>\n",
       "      <th>cat10</th>\n",
       "      <th>cat12</th>\n",
       "      <th>cat27</th>\n",
       "      <th>cat35</th>\n",
       "      <th>cat37</th>\n",
       "      <th>cat59</th>\n",
       "      <th>cat66</th>\n",
       "      <th>cat69</th>\n",
       "      <th>cat71</th>\n",
       "      <th>cat79</th>\n",
       "      <th>cat80</th>\n",
       "      <th>cat81</th>\n",
       "      <th>cat83</th>\n",
       "    </tr>\n",
       "  </thead>\n",
       "  <tbody>\n",
       "    <tr>\n",
       "      <th>0</th>\n",
       "      <td>0.607099</td>\n",
       "      <td>0.0</td>\n",
       "      <td>0.0</td>\n",
       "      <td>1.0</td>\n",
       "      <td>1.0</td>\n",
       "      <td>0.0</td>\n",
       "      <td>0.0</td>\n",
       "      <td>0.0</td>\n",
       "      <td>0.0</td>\n",
       "      <td>0.0</td>\n",
       "      <td>0.0</td>\n",
       "      <td>0.0</td>\n",
       "      <td>0.0</td>\n",
       "      <td>0.0</td>\n",
       "      <td>1.0</td>\n",
       "      <td>3.0</td>\n",
       "      <td>3.0</td>\n",
       "      <td>3.0</td>\n",
       "    </tr>\n",
       "    <tr>\n",
       "      <th>1</th>\n",
       "      <td>0.364080</td>\n",
       "      <td>0.0</td>\n",
       "      <td>0.0</td>\n",
       "      <td>0.0</td>\n",
       "      <td>1.0</td>\n",
       "      <td>1.0</td>\n",
       "      <td>0.0</td>\n",
       "      <td>0.0</td>\n",
       "      <td>0.0</td>\n",
       "      <td>0.0</td>\n",
       "      <td>0.0</td>\n",
       "      <td>0.0</td>\n",
       "      <td>0.0</td>\n",
       "      <td>0.0</td>\n",
       "      <td>1.0</td>\n",
       "      <td>3.0</td>\n",
       "      <td>3.0</td>\n",
       "      <td>1.0</td>\n",
       "    </tr>\n",
       "    <tr>\n",
       "      <th>2</th>\n",
       "      <td>0.281005</td>\n",
       "      <td>0.0</td>\n",
       "      <td>0.0</td>\n",
       "      <td>0.0</td>\n",
       "      <td>1.0</td>\n",
       "      <td>1.0</td>\n",
       "      <td>1.0</td>\n",
       "      <td>0.0</td>\n",
       "      <td>0.0</td>\n",
       "      <td>0.0</td>\n",
       "      <td>0.0</td>\n",
       "      <td>0.0</td>\n",
       "      <td>0.0</td>\n",
       "      <td>0.0</td>\n",
       "      <td>1.0</td>\n",
       "      <td>1.0</td>\n",
       "      <td>3.0</td>\n",
       "      <td>3.0</td>\n",
       "    </tr>\n",
       "    <tr>\n",
       "      <th>3</th>\n",
       "      <td>0.367881</td>\n",
       "      <td>1.0</td>\n",
       "      <td>0.0</td>\n",
       "      <td>1.0</td>\n",
       "      <td>1.0</td>\n",
       "      <td>0.0</td>\n",
       "      <td>0.0</td>\n",
       "      <td>0.0</td>\n",
       "      <td>0.0</td>\n",
       "      <td>0.0</td>\n",
       "      <td>0.0</td>\n",
       "      <td>0.0</td>\n",
       "      <td>0.0</td>\n",
       "      <td>0.0</td>\n",
       "      <td>1.0</td>\n",
       "      <td>3.0</td>\n",
       "      <td>3.0</td>\n",
       "      <td>1.0</td>\n",
       "    </tr>\n",
       "    <tr>\n",
       "      <th>4</th>\n",
       "      <td>0.192519</td>\n",
       "      <td>0.0</td>\n",
       "      <td>0.0</td>\n",
       "      <td>1.0</td>\n",
       "      <td>1.0</td>\n",
       "      <td>1.0</td>\n",
       "      <td>1.0</td>\n",
       "      <td>0.0</td>\n",
       "      <td>0.0</td>\n",
       "      <td>0.0</td>\n",
       "      <td>0.0</td>\n",
       "      <td>0.0</td>\n",
       "      <td>0.0</td>\n",
       "      <td>0.0</td>\n",
       "      <td>3.0</td>\n",
       "      <td>1.0</td>\n",
       "      <td>3.0</td>\n",
       "      <td>1.0</td>\n",
       "    </tr>\n",
       "  </tbody>\n",
       "</table>\n",
       "</div>"
      ],
      "text/plain": [
       "     cont10  cat1  cat3  cat4  cat9  cat10  cat12  cat27  cat35  cat37  cat59  \\\n",
       "0  0.607099   0.0   0.0   1.0   1.0    0.0    0.0    0.0    0.0    0.0    0.0   \n",
       "1  0.364080   0.0   0.0   0.0   1.0    1.0    0.0    0.0    0.0    0.0    0.0   \n",
       "2  0.281005   0.0   0.0   0.0   1.0    1.0    1.0    0.0    0.0    0.0    0.0   \n",
       "3  0.367881   1.0   0.0   1.0   1.0    0.0    0.0    0.0    0.0    0.0    0.0   \n",
       "4  0.192519   0.0   0.0   1.0   1.0    1.0    1.0    0.0    0.0    0.0    0.0   \n",
       "\n",
       "   cat66  cat69  cat71  cat79  cat80  cat81  cat83  \n",
       "0    0.0    0.0    0.0    1.0    3.0    3.0    3.0  \n",
       "1    0.0    0.0    0.0    1.0    3.0    3.0    1.0  \n",
       "2    0.0    0.0    0.0    1.0    1.0    3.0    3.0  \n",
       "3    0.0    0.0    0.0    1.0    3.0    3.0    1.0  \n",
       "4    0.0    0.0    0.0    3.0    1.0    3.0    1.0  "
      ]
     },
     "execution_count": 6,
     "metadata": {},
     "output_type": "execute_result"
    }
   ],
   "source": [
    "important = list([\"cont10\",\"cat1\",\"cat3\",\"cat4\",\"cat9\",\n",
    "                  \"cat10\",\"cat12\",\"cat27\",\"cat35\",\"cat37\",\n",
    "                  \"cat59\",\"cat66\",\"cat69\",\"cat71\",\"cat79\",\n",
    "                  \"cat80\",\"cat81\",\"cat83\"])\n",
    "\n",
    "keepdf = full[important]\n",
    "keepdf['cont10']=np.log1p(keepdf['cont10'])\n",
    "keepdf.head()"
   ]
  },
  {
   "cell_type": "code",
   "execution_count": 7,
   "metadata": {
    "collapsed": false
   },
   "outputs": [],
   "source": [
    "# sns.set_context('poster')\n",
    "# sns.set_style('white')\n",
    "\n",
    "# m1 = LinearRegression(normalize=True)\n",
    "# m1.fit(keepdf[0:len(train)],y)\n",
    "# pred1 = m1.predict(keepdf[len(train):])\n",
    "# sns.distplot(pred1,label='LinearRegression',hist=False)\n",
    "\n",
    "# m2 = Ridge(alpha=0.2,normalize=True)\n",
    "# m2.fit(keepdf[0:len(train)],y)\n",
    "# pred2 = m2.predict(keepdf[len(train):])\n",
    "# sns.distplot(pred2,label='Ridge',hist=False)\n",
    "\n",
    "# m3 = RandomForestRegressor(n_estimators=160,min_samples_split=5)\n",
    "# m3.fit(keepdf[0:len(train)],y)\n",
    "# pred3 = m3.predict(keepdf[len(train):])\n",
    "# sns.distplot(pred3,label='Random Forest',hist=False)\n",
    "\n",
    "# sns.distplot(np.mean([pred1,pred2,pred3],axis=0),label='Average',hist=False)\n",
    "\n",
    "# sns.distplot(y,label='Training Data',hist=False)\n",
    "# plt.legend(loc='best')\n",
    "# plt.xlim([4,11])"
   ]
  },
  {
   "cell_type": "code",
   "execution_count": 8,
   "metadata": {
    "collapsed": false
   },
   "outputs": [],
   "source": [
    "to_remove = list(['cont1','cont11','cont6','cat2','cat6','cat8','cat7','cat16'])\n",
    "\n",
    "# some_full = deepcopy(full)\n",
    "# for tr in to_remove:\n",
    "#     some_full = some_full.drop(tr,axis=1)\n",
    "    \n",
    "# sns.set_context('poster')\n",
    "# sns.set_style('white')\n",
    "\n",
    "# m1 = LinearRegression(normalize=True)\n",
    "# m1.fit(some_full[0:len(train)],y)\n",
    "# pred1 = m1.predict(some_full[len(train):])\n",
    "# sns.distplot(pred1,label='LinearRegression',hist=False)\n",
    "\n",
    "# m2 = Ridge(alpha=0.2,normalize=True)\n",
    "# m2.fit(some_full[0:len(train)],y)\n",
    "# pred2 = m2.predict(some_full[len(train):])\n",
    "# sns.distplot(pred2,label='Ridge',hist=False)\n",
    "\n",
    "# m3 = RandomForestRegressor(n_estimators=160,max_features=80,min_samples_split=5)\n",
    "# m3.fit(some_full[0:len(train)],y)\n",
    "# pred3 = m3.predict(some_full[len(train):])\n",
    "# sns.distplot(pred3,label='Random Forest',hist=False)\n",
    "\n",
    "# sns.distplot(np.mean([pred1,pred2,pred3],axis=0),label='Average',hist=False)\n",
    "\n",
    "# sns.distplot(y,label='Training Data',hist=False)\n",
    "# plt.legend(loc='best')\n",
    "# plt.xlim([4,11])"
   ]
  },
  {
   "cell_type": "markdown",
   "metadata": {},
   "source": [
    "### Nearest neighbors"
   ]
  },
  {
   "cell_type": "code",
   "execution_count": 9,
   "metadata": {
    "collapsed": false
   },
   "outputs": [],
   "source": [
    "from sklearn.neighbors import KNeighborsRegressor\n",
    "\n",
    "# Try with all features:\n",
    "some_full = deepcopy(full)\n",
    "for tr in to_remove:\n",
    "    some_full = some_full.drop(tr,axis=1)\n",
    "    \n",
    "sns.set_context('poster')\n",
    "sns.set_style('white')\n",
    "some_full.loc[:,'cont10']=np.log1p(some_full.loc[:,'cont10'])\n",
    "\n",
    "X_train, X_test, y_train, y_test = train_test_split(some_full[0:len(train)], y, test_size=.3)\n",
    "\n",
    "# nns = np.arange(5,20,1)\n",
    "# maes = []\n",
    "# for nn in nns:\n",
    "#     knn = KNeighborsRegressor(n_neighbors=nn,n_jobs=-1)\n",
    "#     knn.fit(X_train,y_train)\n",
    "#     maes.append(mean_absolute_error(np.expm1(y_test),np.expm1(knn.predict(X_test))))\n",
    "\n",
    "    \n",
    "# plt.plot(nns,maes)"
   ]
  },
  {
   "cell_type": "code",
   "execution_count": 11,
   "metadata": {
    "collapsed": false
   },
   "outputs": [
    {
     "data": {
      "text/plain": [
       "[<matplotlib.lines.Line2D at 0x1186002d0>]"
      ]
     },
     "execution_count": 11,
     "metadata": {},
     "output_type": "execute_result"
    },
    {
     "data": {
      "image/png": "[encoded data removed]",
      "text/plain": [
       "<matplotlib.figure.Figure at 0x117e9ac90>"
      ]
     },
     "metadata": {},
     "output_type": "display_data"
    }
   ],
   "source": [
    "leafs = np.arange(2,10,2)\n",
    "maes = []\n",
    "for lf in leafs:\n",
    "    knn = KNeighborsRegressor(n_neighbors=8,n_jobs=-1,leaf_size=lf)\n",
    "    knn.fit(X_train,y_train)\n",
    "    maes.append(mean_absolute_error(np.expm1(y_test),np.expm1(knn.predict(X_test))))\n",
    "\n",
    "plt.plot(leafs,maes)"
   ]
  },
  {
   "cell_type": "code",
   "execution_count": 12,
   "metadata": {
    "collapsed": false
   },
   "outputs": [
    {
     "name": "stderr",
     "output_type": "stream",
     "text": [
      "/Users/elena/anaconda/lib/python2.7/site-packages/numpy/core/_methods.py:59: RuntimeWarning: Mean of empty slice.\n",
      "  warnings.warn(\"Mean of empty slice.\", RuntimeWarning)\n"
     ]
    },
    {
     "data": {
      "text/plain": [
       "<matplotlib.legend.Legend at 0x118107cd0>"
      ]
     },
     "execution_count": 12,
     "metadata": {},
     "output_type": "execute_result"
    },
    {
     "data": {
      "image/png": "[encoded data removed]",
      "text/plain": [
       "<matplotlib.figure.Figure at 0x1040b9390>"
      ]
     },
     "metadata": {},
     "output_type": "display_data"
    }
   ],
   "source": [
    "from sklearn.neighbors import RadiusNeighborsRegressor\n",
    "\n",
    "x1 = some_full[0:len(train)]\n",
    "x2 = keepdf[0:len(train)]\n",
    "\n",
    "knn = KNeighborsRegressor(n_neighbors=8,n_jobs=-1,leaf_size=2)\n",
    "knn.fit(x1,y)\n",
    "\n",
    "sns.distplot(knn.predict(some_full[len(train):]),label='NN',hist=False)\n",
    "\n",
    "knn2 = KNeighborsRegressor(n_neighbors=8,n_jobs=-1,leaf_size=2)\n",
    "knn2.fit(x2,y)\n",
    "sns.distplot(knn2.predict(keepdf[len(train):]),label='NN, some data',hist=False)\n",
    "\n",
    "rnn = RadiusNeighborsRegressor()\n",
    "rnn.fit(x1,y)\n",
    "sns.distplot(rnn.predict(some_full[len(train):]),label='RN',hist=False)\n",
    "\n",
    "rnn2 = RadiusNeighborsRegressor()\n",
    "rnn2.fit(x2,y)\n",
    "sns.distplot(rnn2.predict(keepdf[len(train):]),label='RN, some data',hist=False)\n",
    "\n",
    "sns.distplot(y,label='Training data',hist=False)\n",
    "plt.legend(loc='best')"
   ]
  },
  {
   "cell_type": "code",
   "execution_count": 16,
   "metadata": {
    "collapsed": false
   },
   "outputs": [],
   "source": []
  },
  {
   "cell_type": "code",
   "execution_count": null,
   "metadata": {
    "collapsed": true
   },
   "outputs": [],
   "source": []
  }
 ],
 "metadata": {
  "kernelspec": {
   "display_name": "Python 2",
   "language": "python",
   "name": "python2"
  },
  "language_info": {
   "codemirror_mode": {
    "name": "ipython",
    "version": 2
   },
   "file_extension": ".py",
   "mimetype": "text/x-python",
   "name": "python",
   "nbconvert_exporter": "python",
   "pygments_lexer": "ipython2",
   "version": "2.7.12"
  }
 },
 "nbformat": 4,
 "nbformat_minor": 0
}
