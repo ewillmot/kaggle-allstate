{
 "cells": [
  {
   "cell_type": "markdown",
   "metadata": {},
   "source": [
    "## Summary\n",
    "Weighted average of the different models - XGBoost, Neural Network, maybe Random Forest? Try different weights?"
   ]
  },
  {
   "cell_type": "code",
   "execution_count": 1,
   "metadata": {
    "collapsed": true
   },
   "outputs": [],
   "source": [
    "import numpy as np\n",
    "import pandas as pd\n",
    "import os\n"
   ]
  },
  {
   "cell_type": "code",
   "execution_count": 2,
   "metadata": {
    "collapsed": false
   },
   "outputs": [
    {
     "name": "stdout",
     "output_type": "stream",
     "text": [
      "125546 125546\n"
     ]
    }
   ],
   "source": [
    "loc = os.path.join('/Users','elena','Documents','Kaggle','Allstate','data')\n",
    "\n",
    "nn = pd.read_csv(os.path.join(loc,'submission_keras.csv'))\n",
    "xgb = pd.read_csv(os.path.join(loc,'xgboost1.csv'))\n",
    "\n",
    "print len(nn),len(xgb)"
   ]
  },
  {
   "cell_type": "code",
   "execution_count": 9,
   "metadata": {
    "collapsed": false
   },
   "outputs": [],
   "source": [
    "# Simple 50/50 average:\n",
    "new = (nn['loss'].values+xgb['loss'].values)/2.0\n",
    "\n",
    "new_submission = pd.DataFrame({'id':pd.Series(nn['id']),'loss':new})\n",
    "new_submission.to_csv(os.path.join(loc,'nn_xgb_avg.csv'),index=False)"
   ]
  },
  {
   "cell_type": "code",
   "execution_count": null,
   "metadata": {
    "collapsed": true
   },
   "outputs": [],
   "source": []
  }
 ],
 "metadata": {
  "kernelspec": {
   "display_name": "Python 2",
   "language": "python",
   "name": "python2"
  },
  "language_info": {
   "codemirror_mode": {
    "name": "ipython",
    "version": 2
   },
   "file_extension": ".py",
   "mimetype": "text/x-python",
   "name": "python",
   "nbconvert_exporter": "python",
   "pygments_lexer": "ipython2",
   "version": "2.7.12"
  }
 },
 "nbformat": 4,
 "nbformat_minor": 0
}
